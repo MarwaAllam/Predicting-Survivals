{
 "cells": [
  {
   "cell_type": "markdown",
   "metadata": {},
   "source": [
    " ## Modeling Trail2\n",
    "      1. Split the test set into validation and testing\n",
    "      2. Train the classification models (Logistic Regression, Decision Trees, Random Forest, SVM and SVM with grid search)\n",
    "      3. Confusion Matrix and Classification Report\n",
    "      4. Report the model metric using the max F1 and it is Logistic Regression"
   ]
  },
  {
   "cell_type": "markdown",
   "metadata": {},
   "source": [
    "**Libraries and Packages needed for modeling**"
   ]
  },
  {
   "cell_type": "code",
   "execution_count": 1,
   "metadata": {
    "collapsed": true
   },
   "outputs": [],
   "source": [
    "import pandas as pd\n",
    "import numpy as np"
   ]
  },
  {
   "cell_type": "code",
   "execution_count": 2,
   "metadata": {
    "collapsed": true
   },
   "outputs": [],
   "source": [
    "import matplotlib.pyplot as plt\n",
    "import seaborn as sns"
   ]
  },
  {
   "cell_type": "code",
   "execution_count": 3,
   "metadata": {
    "collapsed": true
   },
   "outputs": [],
   "source": [
    "%matplotlib inline"
   ]
  },
  {
   "cell_type": "code",
   "execution_count": 4,
   "metadata": {
    "collapsed": false
   },
   "outputs": [
    {
     "name": "stderr",
     "output_type": "stream",
     "text": [
      "C:\\ProgramData\\Anaconda3\\lib\\site-packages\\sklearn\\cross_validation.py:44: DeprecationWarning: This module was deprecated in version 0.18 in favor of the model_selection module into which all the refactored classes and functions are moved. Also note that the interface of the new CV iterators are different from that of this module. This module will be removed in 0.20.\n",
      "  \"This module will be removed in 0.20.\", DeprecationWarning)\n",
      "C:\\ProgramData\\Anaconda3\\lib\\site-packages\\sklearn\\grid_search.py:43: DeprecationWarning: This module was deprecated in version 0.18 in favor of the model_selection module into which all the refactored classes and functions are moved. This module will be removed in 0.20.\n",
      "  DeprecationWarning)\n"
     ]
    }
   ],
   "source": [
    "from sklearn.cross_validation import train_test_split\n",
    "from sklearn.metrics          import confusion_matrix,classification_report\n",
    "\n",
    "from sklearn.svm              import SVC\n",
    "from sklearn.grid_search      import GridSearchCV\n",
    "from sklearn.linear_model     import LogisticRegression\n",
    "from sklearn.tree             import DecisionTreeClassifier\n",
    "from sklearn.ensemble         import RandomForestClassifier"
   ]
  },
  {
   "cell_type": "markdown",
   "metadata": {},
   "source": [
    "**Import the data**"
   ]
  },
  {
   "cell_type": "code",
   "execution_count": 5,
   "metadata": {
    "collapsed": true
   },
   "outputs": [],
   "source": [
    "train = pd.read_csv(\"C:\\\\AllamMarwa\\\\3- Side Projects\\\\Side Project - titanic\\\\Data\\\\train_trail_2.csv\")\n",
    "test  = pd.read_csv(\"C:\\\\AllamMarwa\\\\3- Side Projects\\\\Side Project - titanic\\\\Data\\\\test_trail_2.csv\")"
   ]
  },
  {
   "cell_type": "markdown",
   "metadata": {},
   "source": [
    "**1. Splitting the testing set to validation and testing set**"
   ]
  },
  {
   "cell_type": "code",
   "execution_count": 6,
   "metadata": {
    "collapsed": false
   },
   "outputs": [],
   "source": [
    "train.drop(['PassengerId'],axis =1, inplace=True)\n",
    "test.drop(['PassengerId'] ,axis =1, inplace=True)"
   ]
  },
  {
   "cell_type": "code",
   "execution_count": 7,
   "metadata": {
    "collapsed": false
   },
   "outputs": [],
   "source": [
    "X_train = train.drop('Survived', axis = 1) \n",
    "y_train = train['Survived']"
   ]
  },
  {
   "cell_type": "code",
   "execution_count": 8,
   "metadata": {
    "collapsed": false
   },
   "outputs": [],
   "source": [
    "X_Val_tst = test.drop('Survived', axis = 1) \n",
    "y_Val_tst = test['Survived']"
   ]
  },
  {
   "cell_type": "code",
   "execution_count": 9,
   "metadata": {
    "collapsed": false
   },
   "outputs": [],
   "source": [
    "X_validation, X_test, y_validation, y_test = train_test_split(X_Val_tst, y_Val_tst, test_size=0.5, random_state=101)"
   ]
  },
  {
   "cell_type": "markdown",
   "metadata": {},
   "source": [
    "# Modeling Phase\n",
    "**Building Logistic Regression**\n",
    "\n"
   ]
  },
  {
   "cell_type": "code",
   "execution_count": 10,
   "metadata": {
    "collapsed": true
   },
   "outputs": [],
   "source": [
    "LogisticReg_T2 = LogisticRegression()"
   ]
  },
  {
   "cell_type": "code",
   "execution_count": 11,
   "metadata": {
    "collapsed": false
   },
   "outputs": [
    {
     "data": {
      "text/plain": [
       "LogisticRegression(C=1.0, class_weight=None, dual=False, fit_intercept=True,\n",
       "          intercept_scaling=1, max_iter=100, multi_class='ovr', n_jobs=1,\n",
       "          penalty='l2', random_state=None, solver='liblinear', tol=0.0001,\n",
       "          verbose=0, warm_start=False)"
      ]
     },
     "execution_count": 11,
     "metadata": {},
     "output_type": "execute_result"
    }
   ],
   "source": [
    "LogisticReg_T2.fit(X_train,y_train)"
   ]
  },
  {
   "cell_type": "code",
   "execution_count": 41,
   "metadata": {
    "collapsed": true
   },
   "outputs": [],
   "source": [
    "LogRegPred_train = LogisticReg_T2.predict(X_train)"
   ]
  },
  {
   "cell_type": "code",
   "execution_count": 42,
   "metadata": {
    "collapsed": false
   },
   "outputs": [
    {
     "name": "stdout",
     "output_type": "stream",
     "text": [
      "[[476  73]\n",
      " [105 235]]\n",
      "\n",
      "\n",
      "             precision    recall  f1-score   support\n",
      "\n",
      "          0       0.82      0.87      0.84       549\n",
      "          1       0.76      0.69      0.73       340\n",
      "\n",
      "avg / total       0.80      0.80      0.80       889\n",
      "\n"
     ]
    }
   ],
   "source": [
    "print(confusion_matrix(y_train,LogRegPred_train))\n",
    "print('\\n')\n",
    "print(classification_report(y_train,LogRegPred_train))"
   ]
  },
  {
   "cell_type": "code",
   "execution_count": 43,
   "metadata": {
    "collapsed": false
   },
   "outputs": [],
   "source": [
    "LogRegPred = LogisticReg_T2.predict(X_validation)"
   ]
  },
  {
   "cell_type": "code",
   "execution_count": 44,
   "metadata": {
    "collapsed": false
   },
   "outputs": [
    {
     "name": "stdout",
     "output_type": "stream",
     "text": [
      "[[138   4]\n",
      " [  2  64]]\n",
      "\n",
      "\n",
      "             precision    recall  f1-score   support\n",
      "\n",
      "          0       0.99      0.97      0.98       142\n",
      "          1       0.94      0.97      0.96        66\n",
      "\n",
      "avg / total       0.97      0.97      0.97       208\n",
      "\n"
     ]
    }
   ],
   "source": [
    "print(confusion_matrix(y_validation,LogRegPred))\n",
    "print('\\n')\n",
    "print(classification_report(y_validation,LogRegPred))"
   ]
  },
  {
   "cell_type": "markdown",
   "metadata": {},
   "source": [
    "**Building Support Vector Machine**"
   ]
  },
  {
   "cell_type": "code",
   "execution_count": 14,
   "metadata": {
    "collapsed": true
   },
   "outputs": [],
   "source": [
    "SupVctr_T2 = SVC()"
   ]
  },
  {
   "cell_type": "code",
   "execution_count": 15,
   "metadata": {
    "collapsed": false
   },
   "outputs": [
    {
     "data": {
      "text/plain": [
       "SVC(C=1.0, cache_size=200, class_weight=None, coef0=0.0,\n",
       "  decision_function_shape=None, degree=3, gamma='auto', kernel='rbf',\n",
       "  max_iter=-1, probability=False, random_state=None, shrinking=True,\n",
       "  tol=0.001, verbose=False)"
      ]
     },
     "execution_count": 15,
     "metadata": {},
     "output_type": "execute_result"
    }
   ],
   "source": [
    "SupVctr_T2.fit(X_train,y_train)"
   ]
  },
  {
   "cell_type": "code",
   "execution_count": 16,
   "metadata": {
    "collapsed": true
   },
   "outputs": [],
   "source": [
    "SVMPred_train = SupVctr_T2.predict(X_train)"
   ]
  },
  {
   "cell_type": "code",
   "execution_count": 17,
   "metadata": {
    "collapsed": true
   },
   "outputs": [],
   "source": [
    "SVMPred = SupVctr_T2.predict(X_validation)"
   ]
  },
  {
   "cell_type": "code",
   "execution_count": 18,
   "metadata": {
    "collapsed": false
   },
   "outputs": [
    {
     "name": "stdout",
     "output_type": "stream",
     "text": [
      "[[517  32]\n",
      " [ 67 273]]\n",
      "\n",
      "\n",
      "             precision    recall  f1-score   support\n",
      "\n",
      "          0       0.89      0.94      0.91       549\n",
      "          1       0.90      0.80      0.85       340\n",
      "\n",
      "avg / total       0.89      0.89      0.89       889\n",
      "\n"
     ]
    }
   ],
   "source": [
    "print(confusion_matrix(y_train,SVMPred_train))\n",
    "print('\\n')\n",
    "print(classification_report(y_train,SVMPred_train))"
   ]
  },
  {
   "cell_type": "code",
   "execution_count": 19,
   "metadata": {
    "collapsed": false
   },
   "outputs": [
    {
     "name": "stdout",
     "output_type": "stream",
     "text": [
      "[[107  35]\n",
      " [ 25  41]]\n",
      "\n",
      "\n",
      "             precision    recall  f1-score   support\n",
      "\n",
      "          0       0.81      0.75      0.78       142\n",
      "          1       0.54      0.62      0.58        66\n",
      "\n",
      "avg / total       0.72      0.71      0.72       208\n",
      "\n"
     ]
    }
   ],
   "source": [
    "print(confusion_matrix(y_validation,SVMPred))\n",
    "print('\\n')\n",
    "print(classification_report(y_validation,SVMPred))"
   ]
  },
  {
   "cell_type": "markdown",
   "metadata": {},
   "source": [
    "**Building Support Vector Machine with grid search**"
   ]
  },
  {
   "cell_type": "markdown",
   "metadata": {},
   "source": [
    "** Gridsearch**\n",
    "\n",
    "Finding the right parameters (like what C or gamma values to use) is a tricky task! But luckily, we can be a little lazy and just try a bunch of combinations and see what works best! This idea of creating a 'grid' of parameters and just trying out all the possible combinations is called a Gridsearch, this method is common enough that Scikit-learn has this functionality built in with GridSearchCV! The CV stands for cross-validation which is the\n",
    "\n",
    "GridSearchCV takes a dictionary that describes the parameters that should be tried and a model to train. The grid of parameters is defined as a dictionary, where the keys are the parameters and the values are the settings to be tested. "
   ]
  },
  {
   "cell_type": "code",
   "execution_count": 20,
   "metadata": {
    "collapsed": true
   },
   "outputs": [],
   "source": [
    "param_grid = {'C': [0.1,1, 10, 100, 1000], 'gamma': [1,0.1,0.01,0.001,0.0001], 'kernel': ['linear','rbf']} "
   ]
  },
  {
   "cell_type": "code",
   "execution_count": 21,
   "metadata": {
    "collapsed": false
   },
   "outputs": [
    {
     "name": "stdout",
     "output_type": "stream",
     "text": [
      "Fitting 3 folds for each of 50 candidates, totalling 150 fits\n",
      "[CV] C=0.1, gamma=1, kernel=linear ...................................\n",
      "[CV] .......................... C=0.1, gamma=1, kernel=linear -   0.2s\n",
      "[CV] C=0.1, gamma=1, kernel=linear ...................................\n",
      "[CV] .......................... C=0.1, gamma=1, kernel=linear -   0.0s\n",
      "[CV] C=0.1, gamma=1, kernel=linear ...................................\n"
     ]
    },
    {
     "name": "stderr",
     "output_type": "stream",
     "text": [
      "[Parallel(n_jobs=1)]: Done   1 out of   1 | elapsed:    0.2s remaining:    0.0s\n"
     ]
    },
    {
     "name": "stdout",
     "output_type": "stream",
     "text": [
      "[CV] .......................... C=0.1, gamma=1, kernel=linear -   1.1s\n",
      "[CV] C=0.1, gamma=1, kernel=rbf ......................................\n",
      "[CV] ............................. C=0.1, gamma=1, kernel=rbf -   0.0s\n",
      "[CV] C=0.1, gamma=1, kernel=rbf ......................................\n",
      "[CV] ............................. C=0.1, gamma=1, kernel=rbf -   0.1s\n",
      "[CV] C=0.1, gamma=1, kernel=rbf ......................................\n",
      "[CV] ............................. C=0.1, gamma=1, kernel=rbf -   0.0s\n",
      "[CV] C=0.1, gamma=0.1, kernel=linear .................................\n",
      "[CV] ........................ C=0.1, gamma=0.1, kernel=linear -   0.2s\n",
      "[CV] C=0.1, gamma=0.1, kernel=linear .................................\n",
      "[CV] ........................ C=0.1, gamma=0.1, kernel=linear -   0.0s\n",
      "[CV] C=0.1, gamma=0.1, kernel=linear .................................\n",
      "[CV] ........................ C=0.1, gamma=0.1, kernel=linear -   2.0s\n",
      "[CV] C=0.1, gamma=0.1, kernel=rbf ....................................\n",
      "[CV] ........................... C=0.1, gamma=0.1, kernel=rbf -   0.0s\n",
      "[CV] C=0.1, gamma=0.1, kernel=rbf ....................................\n",
      "[CV] ........................... C=0.1, gamma=0.1, kernel=rbf -   0.0s\n",
      "[CV] C=0.1, gamma=0.1, kernel=rbf ....................................\n",
      "[CV] ........................... C=0.1, gamma=0.1, kernel=rbf -   0.0s\n",
      "[CV] C=0.1, gamma=0.01, kernel=linear ................................\n",
      "[CV] ....................... C=0.1, gamma=0.01, kernel=linear -   0.3s\n",
      "[CV] C=0.1, gamma=0.01, kernel=linear ................................\n",
      "[CV] ....................... C=0.1, gamma=0.01, kernel=linear -   0.1s\n",
      "[CV] C=0.1, gamma=0.01, kernel=linear ................................\n",
      "[CV] ....................... C=0.1, gamma=0.01, kernel=linear -   0.7s\n",
      "[CV] C=0.1, gamma=0.01, kernel=rbf ...................................\n",
      "[CV] .......................... C=0.1, gamma=0.01, kernel=rbf -   0.0s\n",
      "[CV] C=0.1, gamma=0.01, kernel=rbf ...................................\n",
      "[CV] .......................... C=0.1, gamma=0.01, kernel=rbf -   0.0s\n",
      "[CV] C=0.1, gamma=0.01, kernel=rbf ...................................\n",
      "[CV] .......................... C=0.1, gamma=0.01, kernel=rbf -   0.0s\n",
      "[CV] C=0.1, gamma=0.001, kernel=linear ...............................\n",
      "[CV] ...................... C=0.1, gamma=0.001, kernel=linear -   0.1s\n",
      "[CV] C=0.1, gamma=0.001, kernel=linear ...............................\n",
      "[CV] ...................... C=0.1, gamma=0.001, kernel=linear -   0.0s\n",
      "[CV] C=0.1, gamma=0.001, kernel=linear ...............................\n",
      "[CV] ...................... C=0.1, gamma=0.001, kernel=linear -   0.6s\n",
      "[CV] C=0.1, gamma=0.001, kernel=rbf ..................................\n",
      "[CV] ......................... C=0.1, gamma=0.001, kernel=rbf -   0.0s\n",
      "[CV] C=0.1, gamma=0.001, kernel=rbf ..................................\n",
      "[CV] ......................... C=0.1, gamma=0.001, kernel=rbf -   0.0s\n",
      "[CV] C=0.1, gamma=0.001, kernel=rbf ..................................\n",
      "[CV] ......................... C=0.1, gamma=0.001, kernel=rbf -   0.0s\n",
      "[CV] C=0.1, gamma=0.0001, kernel=linear ..............................\n",
      "[CV] ..................... C=0.1, gamma=0.0001, kernel=linear -   0.1s\n",
      "[CV] C=0.1, gamma=0.0001, kernel=linear ..............................\n",
      "[CV] ..................... C=0.1, gamma=0.0001, kernel=linear -   0.0s\n",
      "[CV] C=0.1, gamma=0.0001, kernel=linear ..............................\n",
      "[CV] ..................... C=0.1, gamma=0.0001, kernel=linear -   1.5s\n",
      "[CV] C=0.1, gamma=0.0001, kernel=rbf .................................\n",
      "[CV] ........................ C=0.1, gamma=0.0001, kernel=rbf -   0.0s\n",
      "[CV] C=0.1, gamma=0.0001, kernel=rbf .................................\n",
      "[CV] ........................ C=0.1, gamma=0.0001, kernel=rbf -   0.0s\n",
      "[CV] C=0.1, gamma=0.0001, kernel=rbf .................................\n",
      "[CV] ........................ C=0.1, gamma=0.0001, kernel=rbf -   0.0s\n",
      "[CV] C=1, gamma=1, kernel=linear .....................................\n",
      "[CV] ............................ C=1, gamma=1, kernel=linear -   7.4s\n",
      "[CV] C=1, gamma=1, kernel=linear .....................................\n",
      "[CV] ............................ C=1, gamma=1, kernel=linear -   2.4s\n",
      "[CV] C=1, gamma=1, kernel=linear .....................................\n",
      "[CV] ............................ C=1, gamma=1, kernel=linear -  22.1s\n",
      "[CV] C=1, gamma=1, kernel=rbf ........................................\n",
      "[CV] ............................... C=1, gamma=1, kernel=rbf -   0.0s\n",
      "[CV] C=1, gamma=1, kernel=rbf ........................................\n",
      "[CV] ............................... C=1, gamma=1, kernel=rbf -   0.0s\n",
      "[CV] C=1, gamma=1, kernel=rbf ........................................\n",
      "[CV] ............................... C=1, gamma=1, kernel=rbf -   0.0s\n",
      "[CV] C=1, gamma=0.1, kernel=linear ...................................\n",
      "[CV] .......................... C=1, gamma=0.1, kernel=linear -   3.9s\n",
      "[CV] C=1, gamma=0.1, kernel=linear ...................................\n",
      "[CV] .......................... C=1, gamma=0.1, kernel=linear -   0.5s\n",
      "[CV] C=1, gamma=0.1, kernel=linear ...................................\n",
      "[CV] .......................... C=1, gamma=0.1, kernel=linear -  17.4s\n",
      "[CV] C=1, gamma=0.1, kernel=rbf ......................................\n",
      "[CV] ............................. C=1, gamma=0.1, kernel=rbf -   0.0s\n",
      "[CV] C=1, gamma=0.1, kernel=rbf ......................................\n",
      "[CV] ............................. C=1, gamma=0.1, kernel=rbf -   0.0s\n",
      "[CV] C=1, gamma=0.1, kernel=rbf ......................................\n",
      "[CV] ............................. C=1, gamma=0.1, kernel=rbf -   0.0s\n",
      "[CV] C=1, gamma=0.01, kernel=linear ..................................\n",
      "[CV] ......................... C=1, gamma=0.01, kernel=linear -   3.5s\n",
      "[CV] C=1, gamma=0.01, kernel=linear ..................................\n",
      "[CV] ......................... C=1, gamma=0.01, kernel=linear -   0.5s\n",
      "[CV] C=1, gamma=0.01, kernel=linear ..................................\n",
      "[CV] ......................... C=1, gamma=0.01, kernel=linear -  18.2s\n",
      "[CV] C=1, gamma=0.01, kernel=rbf .....................................\n",
      "[CV] ............................ C=1, gamma=0.01, kernel=rbf -   0.0s\n",
      "[CV] C=1, gamma=0.01, kernel=rbf .....................................\n",
      "[CV] ............................ C=1, gamma=0.01, kernel=rbf -   0.0s\n",
      "[CV] C=1, gamma=0.01, kernel=rbf .....................................\n",
      "[CV] ............................ C=1, gamma=0.01, kernel=rbf -   0.0s\n",
      "[CV] C=1, gamma=0.001, kernel=linear .................................\n",
      "[CV] ........................ C=1, gamma=0.001, kernel=linear -   4.8s\n",
      "[CV] C=1, gamma=0.001, kernel=linear .................................\n",
      "[CV] ........................ C=1, gamma=0.001, kernel=linear -   0.4s\n",
      "[CV] C=1, gamma=0.001, kernel=linear .................................\n",
      "[CV] ........................ C=1, gamma=0.001, kernel=linear -  14.9s\n",
      "[CV] C=1, gamma=0.001, kernel=rbf ....................................\n",
      "[CV] ........................... C=1, gamma=0.001, kernel=rbf -   0.0s\n",
      "[CV] C=1, gamma=0.001, kernel=rbf ....................................\n",
      "[CV] ........................... C=1, gamma=0.001, kernel=rbf -   0.0s\n",
      "[CV] C=1, gamma=0.001, kernel=rbf ....................................\n",
      "[CV] ........................... C=1, gamma=0.001, kernel=rbf -   0.0s\n",
      "[CV] C=1, gamma=0.0001, kernel=linear ................................\n",
      "[CV] ....................... C=1, gamma=0.0001, kernel=linear -   5.7s\n",
      "[CV] C=1, gamma=0.0001, kernel=linear ................................\n",
      "[CV] ....................... C=1, gamma=0.0001, kernel=linear -   0.8s\n",
      "[CV] C=1, gamma=0.0001, kernel=linear ................................\n",
      "[CV] ....................... C=1, gamma=0.0001, kernel=linear -  17.5s\n",
      "[CV] C=1, gamma=0.0001, kernel=rbf ...................................\n",
      "[CV] .......................... C=1, gamma=0.0001, kernel=rbf -   0.0s\n",
      "[CV] C=1, gamma=0.0001, kernel=rbf ...................................\n",
      "[CV] .......................... C=1, gamma=0.0001, kernel=rbf -   0.0s\n",
      "[CV] C=1, gamma=0.0001, kernel=rbf ...................................\n",
      "[CV] .......................... C=1, gamma=0.0001, kernel=rbf -   0.0s\n",
      "[CV] C=10, gamma=1, kernel=linear ....................................\n",
      "[CV] ........................... C=10, gamma=1, kernel=linear -  21.0s\n",
      "[CV] C=10, gamma=1, kernel=linear ....................................\n",
      "[CV] ........................... C=10, gamma=1, kernel=linear -   5.1s\n",
      "[CV] C=10, gamma=1, kernel=linear ....................................\n",
      "[CV] ........................... C=10, gamma=1, kernel=linear - 1.7min\n",
      "[CV] C=10, gamma=1, kernel=rbf .......................................\n",
      "[CV] .............................. C=10, gamma=1, kernel=rbf -   0.0s\n",
      "[CV] C=10, gamma=1, kernel=rbf .......................................\n",
      "[CV] .............................. C=10, gamma=1, kernel=rbf -   0.0s\n",
      "[CV] C=10, gamma=1, kernel=rbf .......................................\n",
      "[CV] .............................. C=10, gamma=1, kernel=rbf -   0.0s\n",
      "[CV] C=10, gamma=0.1, kernel=linear ..................................\n",
      "[CV] ......................... C=10, gamma=0.1, kernel=linear -  22.4s\n",
      "[CV] C=10, gamma=0.1, kernel=linear ..................................\n",
      "[CV] ......................... C=10, gamma=0.1, kernel=linear -   5.2s\n",
      "[CV] C=10, gamma=0.1, kernel=linear ..................................\n",
      "[CV] ......................... C=10, gamma=0.1, kernel=linear - 1.6min\n",
      "[CV] C=10, gamma=0.1, kernel=rbf .....................................\n",
      "[CV] ............................ C=10, gamma=0.1, kernel=rbf -   0.0s\n",
      "[CV] C=10, gamma=0.1, kernel=rbf .....................................\n",
      "[CV] ............................ C=10, gamma=0.1, kernel=rbf -   0.0s\n",
      "[CV] C=10, gamma=0.1, kernel=rbf .....................................\n",
      "[CV] ............................ C=10, gamma=0.1, kernel=rbf -   0.0s\n",
      "[CV] C=10, gamma=0.01, kernel=linear .................................\n",
      "[CV] ........................ C=10, gamma=0.01, kernel=linear -  22.6s\n",
      "[CV] C=10, gamma=0.01, kernel=linear .................................\n",
      "[CV] ........................ C=10, gamma=0.01, kernel=linear -   5.1s\n",
      "[CV] C=10, gamma=0.01, kernel=linear .................................\n",
      "[CV] ........................ C=10, gamma=0.01, kernel=linear - 1.8min\n",
      "[CV] C=10, gamma=0.01, kernel=rbf ....................................\n",
      "[CV] ........................... C=10, gamma=0.01, kernel=rbf -   0.0s\n",
      "[CV] C=10, gamma=0.01, kernel=rbf ....................................\n",
      "[CV] ........................... C=10, gamma=0.01, kernel=rbf -   0.0s\n",
      "[CV] C=10, gamma=0.01, kernel=rbf ....................................\n",
      "[CV] ........................... C=10, gamma=0.01, kernel=rbf -   0.0s\n",
      "[CV] C=10, gamma=0.001, kernel=linear ................................\n",
      "[CV] ....................... C=10, gamma=0.001, kernel=linear -  18.8s\n",
      "[CV] C=10, gamma=0.001, kernel=linear ................................\n",
      "[CV] ....................... C=10, gamma=0.001, kernel=linear -   5.2s\n",
      "[CV] C=10, gamma=0.001, kernel=linear ................................\n",
      "[CV] ....................... C=10, gamma=0.001, kernel=linear - 1.5min\n",
      "[CV] C=10, gamma=0.001, kernel=rbf ...................................\n",
      "[CV] .......................... C=10, gamma=0.001, kernel=rbf -   0.0s\n",
      "[CV] C=10, gamma=0.001, kernel=rbf ...................................\n",
      "[CV] .......................... C=10, gamma=0.001, kernel=rbf -   0.0s\n",
      "[CV] C=10, gamma=0.001, kernel=rbf ...................................\n",
      "[CV] .......................... C=10, gamma=0.001, kernel=rbf -   0.0s\n",
      "[CV] C=10, gamma=0.0001, kernel=linear ...............................\n",
      "[CV] ...................... C=10, gamma=0.0001, kernel=linear -  17.0s\n",
      "[CV] C=10, gamma=0.0001, kernel=linear ...............................\n",
      "[CV] ...................... C=10, gamma=0.0001, kernel=linear -   3.9s\n",
      "[CV] C=10, gamma=0.0001, kernel=linear ...............................\n",
      "[CV] ...................... C=10, gamma=0.0001, kernel=linear - 1.4min\n",
      "[CV] C=10, gamma=0.0001, kernel=rbf ..................................\n",
      "[CV] ......................... C=10, gamma=0.0001, kernel=rbf -   0.0s\n",
      "[CV] C=10, gamma=0.0001, kernel=rbf ..................................\n",
      "[CV] ......................... C=10, gamma=0.0001, kernel=rbf -   0.0s\n",
      "[CV] C=10, gamma=0.0001, kernel=rbf ..................................\n",
      "[CV] ......................... C=10, gamma=0.0001, kernel=rbf -   0.0s\n",
      "[CV] C=100, gamma=1, kernel=linear ...................................\n",
      "[CV] .......................... C=100, gamma=1, kernel=linear - 1.9min\n",
      "[CV] C=100, gamma=1, kernel=linear ...................................\n",
      "[CV] .......................... C=100, gamma=1, kernel=linear -  40.4s\n",
      "[CV] C=100, gamma=1, kernel=linear ...................................\n",
      "[CV] .......................... C=100, gamma=1, kernel=linear -  51.0s\n",
      "[CV] C=100, gamma=1, kernel=rbf ......................................\n",
      "[CV] ............................. C=100, gamma=1, kernel=rbf -   0.0s\n",
      "[CV] C=100, gamma=1, kernel=rbf ......................................\n",
      "[CV] ............................. C=100, gamma=1, kernel=rbf -   0.0s\n",
      "[CV] C=100, gamma=1, kernel=rbf ......................................\n",
      "[CV] ............................. C=100, gamma=1, kernel=rbf -   0.0s\n",
      "[CV] C=100, gamma=0.1, kernel=linear .................................\n",
      "[CV] ........................ C=100, gamma=0.1, kernel=linear - 2.0min\n",
      "[CV] C=100, gamma=0.1, kernel=linear .................................\n",
      "[CV] ........................ C=100, gamma=0.1, kernel=linear -  35.6s\n",
      "[CV] C=100, gamma=0.1, kernel=linear .................................\n",
      "[CV] ........................ C=100, gamma=0.1, kernel=linear -  59.7s\n",
      "[CV] C=100, gamma=0.1, kernel=rbf ....................................\n",
      "[CV] ........................... C=100, gamma=0.1, kernel=rbf -   0.0s\n",
      "[CV] C=100, gamma=0.1, kernel=rbf ....................................\n",
      "[CV] ........................... C=100, gamma=0.1, kernel=rbf -   0.0s\n",
      "[CV] C=100, gamma=0.1, kernel=rbf ....................................\n",
      "[CV] ........................... C=100, gamma=0.1, kernel=rbf -   0.0s\n",
      "[CV] C=100, gamma=0.01, kernel=linear ................................\n",
      "[CV] ....................... C=100, gamma=0.01, kernel=linear - 2.0min\n",
      "[CV] C=100, gamma=0.01, kernel=linear ................................\n",
      "[CV] ....................... C=100, gamma=0.01, kernel=linear -  36.7s\n",
      "[CV] C=100, gamma=0.01, kernel=linear ................................\n",
      "[CV] ....................... C=100, gamma=0.01, kernel=linear -  49.5s\n",
      "[CV] C=100, gamma=0.01, kernel=rbf ...................................\n",
      "[CV] .......................... C=100, gamma=0.01, kernel=rbf -   0.0s\n",
      "[CV] C=100, gamma=0.01, kernel=rbf ...................................\n",
      "[CV] .......................... C=100, gamma=0.01, kernel=rbf -   0.0s\n",
      "[CV] C=100, gamma=0.01, kernel=rbf ...................................\n",
      "[CV] .......................... C=100, gamma=0.01, kernel=rbf -   0.0s\n",
      "[CV] C=100, gamma=0.001, kernel=linear ...............................\n",
      "[CV] ...................... C=100, gamma=0.001, kernel=linear - 1.9min\n",
      "[CV] C=100, gamma=0.001, kernel=linear ...............................\n",
      "[CV] ...................... C=100, gamma=0.001, kernel=linear -  35.1s\n",
      "[CV] C=100, gamma=0.001, kernel=linear ...............................\n",
      "[CV] ...................... C=100, gamma=0.001, kernel=linear -  52.6s\n",
      "[CV] C=100, gamma=0.001, kernel=rbf ..................................\n",
      "[CV] ......................... C=100, gamma=0.001, kernel=rbf -   0.0s\n",
      "[CV] C=100, gamma=0.001, kernel=rbf ..................................\n",
      "[CV] ......................... C=100, gamma=0.001, kernel=rbf -   0.0s\n",
      "[CV] C=100, gamma=0.001, kernel=rbf ..................................\n",
      "[CV] ......................... C=100, gamma=0.001, kernel=rbf -   0.0s\n",
      "[CV] C=100, gamma=0.0001, kernel=linear ..............................\n",
      "[CV] ..................... C=100, gamma=0.0001, kernel=linear - 2.2min\n",
      "[CV] C=100, gamma=0.0001, kernel=linear ..............................\n",
      "[CV] ..................... C=100, gamma=0.0001, kernel=linear -  43.3s\n",
      "[CV] C=100, gamma=0.0001, kernel=linear ..............................\n",
      "[CV] ..................... C=100, gamma=0.0001, kernel=linear -  57.4s\n",
      "[CV] C=100, gamma=0.0001, kernel=rbf .................................\n",
      "[CV] ........................ C=100, gamma=0.0001, kernel=rbf -   0.0s\n",
      "[CV] C=100, gamma=0.0001, kernel=rbf .................................\n",
      "[CV] ........................ C=100, gamma=0.0001, kernel=rbf -   0.0s\n",
      "[CV] C=100, gamma=0.0001, kernel=rbf .................................\n",
      "[CV] ........................ C=100, gamma=0.0001, kernel=rbf -   0.0s\n",
      "[CV] C=1000, gamma=1, kernel=linear ..................................\n",
      "[CV] ......................... C=1000, gamma=1, kernel=linear - 2.1min\n",
      "[CV] C=1000, gamma=1, kernel=linear ..................................\n",
      "[CV] ......................... C=1000, gamma=1, kernel=linear - 1.1min\n",
      "[CV] C=1000, gamma=1, kernel=linear ..................................\n",
      "[CV] ......................... C=1000, gamma=1, kernel=linear - 2.1min\n",
      "[CV] C=1000, gamma=1, kernel=rbf .....................................\n",
      "[CV] ............................ C=1000, gamma=1, kernel=rbf -   0.0s\n",
      "[CV] C=1000, gamma=1, kernel=rbf .....................................\n",
      "[CV] ............................ C=1000, gamma=1, kernel=rbf -   0.0s\n",
      "[CV] C=1000, gamma=1, kernel=rbf .....................................\n",
      "[CV] ............................ C=1000, gamma=1, kernel=rbf -   0.0s\n",
      "[CV] C=1000, gamma=0.1, kernel=linear ................................\n",
      "[CV] ....................... C=1000, gamma=0.1, kernel=linear - 1.8min\n",
      "[CV] C=1000, gamma=0.1, kernel=linear ................................\n",
      "[CV] ....................... C=1000, gamma=0.1, kernel=linear - 1.0min\n",
      "[CV] C=1000, gamma=0.1, kernel=linear ................................\n",
      "[CV] ....................... C=1000, gamma=0.1, kernel=linear - 1.7min\n",
      "[CV] C=1000, gamma=0.1, kernel=rbf ...................................\n",
      "[CV] .......................... C=1000, gamma=0.1, kernel=rbf -   0.0s\n",
      "[CV] C=1000, gamma=0.1, kernel=rbf ...................................\n",
      "[CV] .......................... C=1000, gamma=0.1, kernel=rbf -   0.0s\n",
      "[CV] C=1000, gamma=0.1, kernel=rbf ...................................\n",
      "[CV] .......................... C=1000, gamma=0.1, kernel=rbf -   0.2s\n",
      "[CV] C=1000, gamma=0.01, kernel=linear ...............................\n",
      "[CV] ...................... C=1000, gamma=0.01, kernel=linear - 1.6min\n",
      "[CV] C=1000, gamma=0.01, kernel=linear ...............................\n",
      "[CV] ...................... C=1000, gamma=0.01, kernel=linear - 1.0min\n",
      "[CV] C=1000, gamma=0.01, kernel=linear ...............................\n",
      "[CV] ...................... C=1000, gamma=0.01, kernel=linear - 1.8min\n",
      "[CV] C=1000, gamma=0.01, kernel=rbf ..................................\n",
      "[CV] ......................... C=1000, gamma=0.01, kernel=rbf -   0.0s\n",
      "[CV] C=1000, gamma=0.01, kernel=rbf ..................................\n",
      "[CV] ......................... C=1000, gamma=0.01, kernel=rbf -   0.2s\n",
      "[CV] C=1000, gamma=0.01, kernel=rbf ..................................\n",
      "[CV] ......................... C=1000, gamma=0.01, kernel=rbf -   0.1s\n",
      "[CV] C=1000, gamma=0.001, kernel=linear ..............................\n",
      "[CV] ..................... C=1000, gamma=0.001, kernel=linear - 1.7min\n",
      "[CV] C=1000, gamma=0.001, kernel=linear ..............................\n",
      "[CV] ..................... C=1000, gamma=0.001, kernel=linear - 1.0min\n",
      "[CV] C=1000, gamma=0.001, kernel=linear ..............................\n",
      "[CV] ..................... C=1000, gamma=0.001, kernel=linear - 1.8min\n",
      "[CV] C=1000, gamma=0.001, kernel=rbf .................................\n",
      "[CV] ........................ C=1000, gamma=0.001, kernel=rbf -   0.1s\n",
      "[CV] C=1000, gamma=0.001, kernel=rbf .................................\n",
      "[CV] ........................ C=1000, gamma=0.001, kernel=rbf -   0.0s\n",
      "[CV] C=1000, gamma=0.001, kernel=rbf .................................\n",
      "[CV] ........................ C=1000, gamma=0.001, kernel=rbf -   0.1s\n",
      "[CV] C=1000, gamma=0.0001, kernel=linear .............................\n",
      "[CV] .................... C=1000, gamma=0.0001, kernel=linear - 1.6min\n",
      "[CV] C=1000, gamma=0.0001, kernel=linear .............................\n",
      "[CV] .................... C=1000, gamma=0.0001, kernel=linear - 1.0min\n",
      "[CV] C=1000, gamma=0.0001, kernel=linear .............................\n",
      "[CV] .................... C=1000, gamma=0.0001, kernel=linear - 1.7min\n",
      "[CV] C=1000, gamma=0.0001, kernel=rbf ................................\n",
      "[CV] ....................... C=1000, gamma=0.0001, kernel=rbf -   0.0s\n",
      "[CV] C=1000, gamma=0.0001, kernel=rbf ................................\n",
      "[CV] ....................... C=1000, gamma=0.0001, kernel=rbf -   0.0s\n",
      "[CV] C=1000, gamma=0.0001, kernel=rbf ................................\n",
      "[CV] ....................... C=1000, gamma=0.0001, kernel=rbf -   0.0s"
     ]
    },
    {
     "name": "stderr",
     "output_type": "stream",
     "text": [
      "[Parallel(n_jobs=1)]: Done 150 out of 150 | elapsed: 53.2min finished\n"
     ]
    },
    {
     "name": "stdout",
     "output_type": "stream",
     "text": [
      "\n"
     ]
    },
    {
     "data": {
      "text/plain": [
       "GridSearchCV(cv=None, error_score='raise',\n",
       "       estimator=SVC(C=1.0, cache_size=200, class_weight=None, coef0=0.0,\n",
       "  decision_function_shape=None, degree=3, gamma='auto', kernel='rbf',\n",
       "  max_iter=-1, probability=False, random_state=None, shrinking=True,\n",
       "  tol=0.001, verbose=False),\n",
       "       fit_params={}, iid=True, n_jobs=1,\n",
       "       param_grid={'C': [0.1, 1, 10, 100, 1000], 'gamma': [1, 0.1, 0.01, 0.001, 0.0001], 'kernel': ['linear', 'rbf']},\n",
       "       pre_dispatch='2*n_jobs', refit=True, scoring=None, verbose=2)"
      ]
     },
     "execution_count": 21,
     "metadata": {},
     "output_type": "execute_result"
    }
   ],
   "source": [
    "grid = GridSearchCV(SVC(),param_grid, verbose= 2)\n",
    "grid.fit(X_train,y_train)"
   ]
  },
  {
   "cell_type": "code",
   "execution_count": 24,
   "metadata": {
    "collapsed": false
   },
   "outputs": [
    {
     "data": {
      "text/plain": [
       "{'C': 1000, 'gamma': 0.001, 'kernel': 'rbf'}"
      ]
     },
     "execution_count": 24,
     "metadata": {},
     "output_type": "execute_result"
    }
   ],
   "source": [
    "grid.best_params_"
   ]
  },
  {
   "cell_type": "code",
   "execution_count": 25,
   "metadata": {
    "collapsed": true
   },
   "outputs": [],
   "source": [
    "grid_predictions_train = grid.predict(X_train)"
   ]
  },
  {
   "cell_type": "code",
   "execution_count": 26,
   "metadata": {
    "collapsed": false
   },
   "outputs": [
    {
     "name": "stdout",
     "output_type": "stream",
     "text": [
      "[[489  60]\n",
      " [ 65 275]]\n",
      "\n",
      "\n",
      "             precision    recall  f1-score   support\n",
      "\n",
      "          0       0.88      0.89      0.89       549\n",
      "          1       0.82      0.81      0.81       340\n",
      "\n",
      "avg / total       0.86      0.86      0.86       889\n",
      "\n"
     ]
    }
   ],
   "source": [
    "print(confusion_matrix(y_train,grid_predictions_train))\n",
    "print('\\n')\n",
    "print(classification_report(y_train,grid_predictions_train))"
   ]
  },
  {
   "cell_type": "code",
   "execution_count": 27,
   "metadata": {
    "collapsed": true
   },
   "outputs": [],
   "source": [
    "grid_predictions = grid.predict(X_validation)"
   ]
  },
  {
   "cell_type": "code",
   "execution_count": 28,
   "metadata": {
    "collapsed": false
   },
   "outputs": [
    {
     "name": "stdout",
     "output_type": "stream",
     "text": [
      "[[127  15]\n",
      " [  3  63]]\n",
      "\n",
      "\n",
      "             precision    recall  f1-score   support\n",
      "\n",
      "          0       0.98      0.89      0.93       142\n",
      "          1       0.81      0.95      0.88        66\n",
      "\n",
      "avg / total       0.92      0.91      0.92       208\n",
      "\n"
     ]
    }
   ],
   "source": [
    "print(confusion_matrix(y_validation,grid_predictions))\n",
    "print('\\n')\n",
    "print(classification_report(y_validation,grid_predictions))"
   ]
  },
  {
   "cell_type": "markdown",
   "metadata": {},
   "source": [
    "**Buidling Decision Trees**"
   ]
  },
  {
   "cell_type": "code",
   "execution_count": 29,
   "metadata": {
    "collapsed": true
   },
   "outputs": [],
   "source": [
    "dtree = DecisionTreeClassifier()"
   ]
  },
  {
   "cell_type": "code",
   "execution_count": 30,
   "metadata": {
    "collapsed": false
   },
   "outputs": [
    {
     "data": {
      "text/plain": [
       "DecisionTreeClassifier(class_weight=None, criterion='gini', max_depth=None,\n",
       "            max_features=None, max_leaf_nodes=None,\n",
       "            min_impurity_split=1e-07, min_samples_leaf=1,\n",
       "            min_samples_split=2, min_weight_fraction_leaf=0.0,\n",
       "            presort=False, random_state=None, splitter='best')"
      ]
     },
     "execution_count": 30,
     "metadata": {},
     "output_type": "execute_result"
    }
   ],
   "source": [
    "dtree.fit(X_train, y_train)"
   ]
  },
  {
   "cell_type": "code",
   "execution_count": 31,
   "metadata": {
    "collapsed": true
   },
   "outputs": [],
   "source": [
    "DT_pred_train = dtree.predict(X_train)"
   ]
  },
  {
   "cell_type": "code",
   "execution_count": 32,
   "metadata": {
    "collapsed": false
   },
   "outputs": [
    {
     "name": "stdout",
     "output_type": "stream",
     "text": [
      "[[547   2]\n",
      " [ 14 326]]\n",
      "\n",
      "\n",
      "             precision    recall  f1-score   support\n",
      "\n",
      "          0       0.98      1.00      0.99       549\n",
      "          1       0.99      0.96      0.98       340\n",
      "\n",
      "avg / total       0.98      0.98      0.98       889\n",
      "\n"
     ]
    }
   ],
   "source": [
    "print(confusion_matrix(y_train, DT_pred_train))\n",
    "print('\\n')\n",
    "print(classification_report(y_train, DT_pred_train))"
   ]
  },
  {
   "cell_type": "code",
   "execution_count": 33,
   "metadata": {
    "collapsed": true
   },
   "outputs": [],
   "source": [
    "DT_pred = dtree.predict(X_validation)"
   ]
  },
  {
   "cell_type": "code",
   "execution_count": 34,
   "metadata": {
    "collapsed": false
   },
   "outputs": [
    {
     "name": "stdout",
     "output_type": "stream",
     "text": [
      "[[118  24]\n",
      " [ 16  50]]\n",
      "\n",
      "\n",
      "             precision    recall  f1-score   support\n",
      "\n",
      "          0       0.88      0.83      0.86       142\n",
      "          1       0.68      0.76      0.71        66\n",
      "\n",
      "avg / total       0.82      0.81      0.81       208\n",
      "\n"
     ]
    }
   ],
   "source": [
    "print(confusion_matrix(y_validation, DT_pred))\n",
    "print('\\n')\n",
    "print(classification_report(y_validation, DT_pred))"
   ]
  },
  {
   "cell_type": "markdown",
   "metadata": {},
   "source": [
    "**Building Random Forest**"
   ]
  },
  {
   "cell_type": "code",
   "execution_count": 35,
   "metadata": {
    "collapsed": true
   },
   "outputs": [],
   "source": [
    "RanForst = RandomForestClassifier(n_estimators=200)"
   ]
  },
  {
   "cell_type": "code",
   "execution_count": 36,
   "metadata": {
    "collapsed": false
   },
   "outputs": [
    {
     "data": {
      "text/plain": [
       "RandomForestClassifier(bootstrap=True, class_weight=None, criterion='gini',\n",
       "            max_depth=None, max_features='auto', max_leaf_nodes=None,\n",
       "            min_impurity_split=1e-07, min_samples_leaf=1,\n",
       "            min_samples_split=2, min_weight_fraction_leaf=0.0,\n",
       "            n_estimators=200, n_jobs=1, oob_score=False, random_state=None,\n",
       "            verbose=0, warm_start=False)"
      ]
     },
     "execution_count": 36,
     "metadata": {},
     "output_type": "execute_result"
    }
   ],
   "source": [
    "RanForst.fit(X_train,y_train)"
   ]
  },
  {
   "cell_type": "code",
   "execution_count": 37,
   "metadata": {
    "collapsed": true
   },
   "outputs": [],
   "source": [
    "RanFor_Predict_train = RanForst.predict(X_train)"
   ]
  },
  {
   "cell_type": "code",
   "execution_count": 38,
   "metadata": {
    "collapsed": false
   },
   "outputs": [
    {
     "name": "stdout",
     "output_type": "stream",
     "text": [
      "[[543   6]\n",
      " [ 10 330]]\n",
      "\n",
      "\n",
      "             precision    recall  f1-score   support\n",
      "\n",
      "          0       0.98      0.99      0.99       549\n",
      "          1       0.98      0.97      0.98       340\n",
      "\n",
      "avg / total       0.98      0.98      0.98       889\n",
      "\n"
     ]
    }
   ],
   "source": [
    "print(confusion_matrix(y_train,RanFor_Predict_train))\n",
    "print('\\n')\n",
    "print(classification_report(y_train,RanFor_Predict_train))"
   ]
  },
  {
   "cell_type": "code",
   "execution_count": 39,
   "metadata": {
    "collapsed": true
   },
   "outputs": [],
   "source": [
    "RanFor_Predict = RanForst.predict(X_validation)"
   ]
  },
  {
   "cell_type": "code",
   "execution_count": 40,
   "metadata": {
    "collapsed": false
   },
   "outputs": [
    {
     "name": "stdout",
     "output_type": "stream",
     "text": [
      "[[125  17]\n",
      " [ 13  53]]\n",
      "\n",
      "\n",
      "             precision    recall  f1-score   support\n",
      "\n",
      "          0       0.91      0.88      0.89       142\n",
      "          1       0.76      0.80      0.78        66\n",
      "\n",
      "avg / total       0.86      0.86      0.86       208\n",
      "\n"
     ]
    }
   ],
   "source": [
    "print(confusion_matrix(y_validation,RanFor_Predict))\n",
    "print('\\n')\n",
    "print(classification_report(y_validation,RanFor_Predict))"
   ]
  },
  {
   "cell_type": "markdown",
   "metadata": {},
   "source": [
    "**Report the accuracy on testing set using max F1 which was the Logistics Regression**"
   ]
  },
  {
   "cell_type": "code",
   "execution_count": 46,
   "metadata": {
    "collapsed": true
   },
   "outputs": [],
   "source": [
    "LogRegPred_test = LogisticReg_T2.predict(X_test)"
   ]
  },
  {
   "cell_type": "code",
   "execution_count": 47,
   "metadata": {
    "collapsed": false
   },
   "outputs": [
    {
     "name": "stdout",
     "output_type": "stream",
     "text": [
      "[[117   6]\n",
      " [  6  80]]\n",
      "\n",
      "\n",
      "             precision    recall  f1-score   support\n",
      "\n",
      "          0       0.95      0.95      0.95       123\n",
      "          1       0.93      0.93      0.93        86\n",
      "\n",
      "avg / total       0.94      0.94      0.94       209\n",
      "\n"
     ]
    }
   ],
   "source": [
    "print(confusion_matrix(y_test,LogRegPred_test))\n",
    "print('\\n')\n",
    "print(classification_report(y_test,LogRegPred_test))"
   ]
  }
 ],
 "metadata": {
  "kernelspec": {
   "display_name": "Python 3",
   "language": "python",
   "name": "python3"
  },
  "language_info": {
   "codemirror_mode": {
    "name": "ipython",
    "version": 3
   },
   "file_extension": ".py",
   "mimetype": "text/x-python",
   "name": "python",
   "nbconvert_exporter": "python",
   "pygments_lexer": "ipython3",
   "version": "3.6.0"
  }
 },
 "nbformat": 4,
 "nbformat_minor": 2
}
